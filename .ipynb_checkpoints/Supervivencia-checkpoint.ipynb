{
 "cells": [
  {
   "cell_type": "markdown",
   "metadata": {},
   "source": [
    "<h1 align=center><font size = 6>Estadistica Actuarial</font></h1>\n",
    "\n",
    "<h2>Tema: Trabajo Adicional</h2>\n",
    "<h2>Autor: Jaime Gomez Marin</h2>\n",
    "\n",
    "<p>El archivo TMSPP2017.txt se debe copiar en el directorio donde se copia este script</p>\n"
   ]
  },
  {
   "cell_type": "markdown",
   "metadata": {},
   "source": [
    "<h3>1.-Lectura de Datos</h3>\n",
    "<p>\n",
    "Se lee los datos del archivo de mortandad\n",
    "</p>"
   ]
  },
  {
   "cell_type": "code",
   "execution_count": 1,
   "metadata": {},
   "outputs": [],
   "source": [
    "# Se importa la libreria pandas para la lectura de archivos\n",
    "import pandas as pd\n",
    "\n",
    "# Definimos el nombre del archivo de mortandad\n",
    "NAMEFILE = \"TMSPP2017.txt\"\n",
    "\n",
    "df = pd.read_csv(NAMEFILE, sep = \"\\t\")\n"
   ]
  },
  {
   "cell_type": "code",
   "execution_count": 2,
   "metadata": {},
   "outputs": [
    {
     "data": {
      "text/plain": [
       "x              int64\n",
       "SPPS2017H    float64\n",
       "SPPS2017M    float64\n",
       "SPPI2017H    float64\n",
       "SPPI2017M    float64\n",
       "AaxH         float64\n",
       "AaxM         float64\n",
       "dtype: object"
      ]
     },
     "execution_count": 2,
     "metadata": {},
     "output_type": "execute_result"
    }
   ],
   "source": [
    "df.dtypes"
   ]
  },
  {
   "cell_type": "code",
   "execution_count": 3,
   "metadata": {},
   "outputs": [],
   "source": [
    "#print(df[\"SPPS2017H\"])"
   ]
  },
  {
   "cell_type": "markdown",
   "metadata": {},
   "source": [
    "<p> Creamos la clase Lifetable y funcion probs2lifetable() para almacenar la\n",
    "    informacion de la tabla de mortandad </p>"
   ]
  },
  {
   "cell_type": "code",
   "execution_count": 4,
   "metadata": {
    "scrolled": true
   },
   "outputs": [],
   "source": [
    "class Lifetable(object):\n",
    "    '''\n",
    "    Definicion de clase Lifetable\n",
    "    '''\n",
    "    def __init__(self, x, lx, name):\n",
    "        self.x = x\n",
    "        self.lx = lx\n",
    "        self.name = name\n",
    "    "
   ]
  },
  {
   "cell_type": "code",
   "execution_count": 5,
   "metadata": {},
   "outputs": [],
   "source": [
    "import numpy as np\n",
    "\n",
    "def probs2lifetable(probs, radix=10000, type=\"px\", name=\"ungiven\"):\n",
    "    '''\n",
    "    Se crea la funcion de probabiidad probs2lifetable \n",
    "    en Python similar a R\n",
    "    '''\n",
    "    if(type==\"px\" and probs[len(probs)-1]!=0): \n",
    "        probs.append(0)\n",
    "        \n",
    "    if(type==\"qx\" and probs[len(probs)-1]!=1): \n",
    "        probs.append(1)\n",
    "            \n",
    "    lx = [0 for x in range(len(probs))] \n",
    "    lx[0] = radix\n",
    "    \n",
    "    for i in range(1,len(probs)-1) :\n",
    "        if(type==\"px\"): \n",
    "            lx[i]=lx[i-1]*probs[i-1] \n",
    "        else: \n",
    "            lx[i]=lx[i-1]*(1-probs[i-1])\n",
    "    \n",
    "    return Lifetable(np.arange(1,len(probs)), lx, name) "
   ]
  },
  {
   "cell_type": "markdown",
   "metadata": {},
   "source": [
    "### Ejemplo : Cargamos las tablas de mortandad para varones sanos para el año 2019"
   ]
  },
  {
   "cell_type": "code",
   "execution_count": 6,
   "metadata": {},
   "outputs": [],
   "source": [
    "probs = df[\"SPPS2017H\"]* pow(1-df[\"AaxH\"],2)\n",
    "HS2019 = probs2lifetable(probs,radix = 10**6, type=\"qx\",name = \"HS2019\")"
   ]
  },
  {
   "cell_type": "code",
   "execution_count": 7,
   "metadata": {},
   "outputs": [
    {
     "data": {
      "text/plain": [
       "array([  1,   2,   3,   4,   5,   6,   7,   8,   9,  10,  11,  12,  13,\n",
       "        14,  15,  16,  17,  18,  19,  20,  21,  22,  23,  24,  25,  26,\n",
       "        27,  28,  29,  30,  31,  32,  33,  34,  35,  36,  37,  38,  39,\n",
       "        40,  41,  42,  43,  44,  45,  46,  47,  48,  49,  50,  51,  52,\n",
       "        53,  54,  55,  56,  57,  58,  59,  60,  61,  62,  63,  64,  65,\n",
       "        66,  67,  68,  69,  70,  71,  72,  73,  74,  75,  76,  77,  78,\n",
       "        79,  80,  81,  82,  83,  84,  85,  86,  87,  88,  89,  90,  91,\n",
       "        92,  93,  94,  95,  96,  97,  98,  99, 100, 101, 102, 103, 104,\n",
       "       105, 106, 107, 108, 109, 110])"
      ]
     },
     "execution_count": 7,
     "metadata": {},
     "output_type": "execute_result"
    }
   ],
   "source": [
    "# Verificamos los datos\n",
    "HS2019.x"
   ]
  },
  {
   "cell_type": "code",
   "execution_count": 8,
   "metadata": {},
   "outputs": [],
   "source": [
    "# Verificamos los datos\n",
    "# HS2019.lx"
   ]
  },
  {
   "cell_type": "markdown",
   "metadata": {},
   "source": [
    "<h3>2.-Interpretar Probabilidades</h3>\n",
    "<p>\n",
    "Calcular e interpretar 3 probabilidades (distintas, por ejemplo npx, nqx, m|nqx) \n",
    "</p>"
   ]
  },
  {
   "cell_type": "markdown",
   "metadata": {},
   "source": [
    "Se define las funciones pxt() y qxt() en Python , tomando de referencia la implementacion del paquete lifecontigencies de R."
   ]
  },
  {
   "cell_type": "code",
   "execution_count": 9,
   "metadata": {},
   "outputs": [],
   "source": [
    "import math\n",
    "\n",
    "# Survival probability between age x and x+t\n",
    "def pxt (obj, x, t):\n",
    "    \n",
    "    #adjustment when age x is not an integer \n",
    "    floorx = math.floor(x) #compute floor(x)\n",
    "    eps_x  = x - floorx #compute epsilon x\n",
    "    u      = t + eps_x #add epsilon x to time t\n",
    "    flooru = math.floor(u) #compute floor(u)\n",
    "    eps_u  = u - flooru #compute epsilon t\n",
    "  \n",
    "    #local lifetable data closed at maximum age\n",
    "    omega = max(obj.x)\n",
    "    myx   = obj.x\n",
    "    mylx  = obj.lx\n",
    "   \n",
    "    #get l_floor(x) and consecutive\n",
    "    l_floorx   = mylx[floorx]\n",
    "    l_floorxp1 = mylx[floorx + 1]\n",
    "\n",
    "    #get l_floor(x+t) and consecutive\n",
    "    if floorx + flooru < len(mylx):\n",
    "        l_floorxu = mylx[floorx + flooru]\n",
    "    else:\n",
    "        l_floorxu = 0\n",
    "    if floorx + flooru + 1 < len(mylx):\n",
    "        l_floorxup1 = mylx[floorx + flooru + 1]\n",
    "    else:\n",
    "        l_floorxup1 = 0\n",
    "    \n",
    "    #compute one-year survival probabilites \n",
    "    if l_floorx != 0 :\n",
    "        flooru_p_floorx   = l_floorxu / l_floorx \n",
    "        floorup1_p_floorx = l_floorxup1 / l_floorx\n",
    "        one_p_floorx      = l_floorxp1 / l_floorx \n",
    "    else:\n",
    "        flooru_p_floorx   = 0\n",
    "        floorup1_p_floorx = 0\n",
    "        one_p_floorx      = 0\n",
    "      \n",
    "    if l_floorxu != 0 :\n",
    "        one_p_floorxu     = l_floorxup1 / l_floorxu\n",
    "    else:\n",
    "        one_p_floorxu     = 0\n",
    "        \n",
    "    #adjustment when t is not integer\n",
    "    u_p_floorx = flooru_p_floorx * (1 - eps_u * (1 - one_p_floorxu))\n",
    "  \n",
    "    #adjustment when age x is not an integer (otherwise equal 1)\n",
    "    eps_x_p_floorx =  1 - eps_x * (1 - one_p_floorx)\n",
    "\n",
    "    return float(u_p_floorx / eps_x_p_floorx)\n",
    "\n",
    "\n",
    "# Death probability\n",
    "def qxt(obj, x, t):\n",
    "    return 1 - pxt(obj=obj, x=x, t=t)\n"
   ]
  },
  {
   "cell_type": "markdown",
   "metadata": {},
   "source": [
    "### Ejemplo 1:  $_np_x$\n",
    "\n",
    "a.- Calcule la probabilidad de que, en el año 2020, una mujer sana de 20 años fallezca teniendo 50 años o más.\n",
    "\n",
    "Solucion:\n",
    "\n",
    " $$_{30}p_{20}$$\n",
    " "
   ]
  },
  {
   "cell_type": "code",
   "execution_count": 10,
   "metadata": {},
   "outputs": [
    {
     "data": {
      "text/plain": [
       "0.983113681065102"
      ]
     },
     "execution_count": 10,
     "metadata": {},
     "output_type": "execute_result"
    }
   ],
   "source": [
    "# Cargamos la tabla de mortandad\n",
    "probs = df[\"SPPS2017M\"]* pow(1-df[\"AaxM\"],3)\n",
    "MS2020 = probs2lifetable(probs,radix = 10**6, type=\"qx\",name = \"MS2020\")\n",
    "\n",
    "# Calculamos la probabilidad\n",
    "pxt(MS2020, x = 20, t = 30)"
   ]
  },
  {
   "cell_type": "markdown",
   "metadata": {},
   "source": [
    "### Ejemplo 2 :  $_nq_x$ \n",
    "\n",
    "b.- Calcule la probabilidad de que, en el año 2018, un hombre sano de 33 años fallezca antes de cumplir 45.\n",
    "\n",
    "\n",
    "Solucion:\n",
    "\n",
    " $$_{12}q_{33}$$"
   ]
  },
  {
   "cell_type": "code",
   "execution_count": 11,
   "metadata": {},
   "outputs": [
    {
     "data": {
      "text/plain": [
       "0.014603027006928615"
      ]
     },
     "execution_count": 11,
     "metadata": {},
     "output_type": "execute_result"
    }
   ],
   "source": [
    "# Cargamos la tabla de mortandad\n",
    "probs = df[\"SPPS2017H\"]* pow(1-df[\"AaxH\"],1)\n",
    "HS2018 = probs2lifetable(probs,radix = 10**6, type=\"qx\",name = \"HS2018\")\n",
    "\n",
    "# Calculamos la probabilidad\n",
    "qxt(HS2018, x = 33, t = 12)"
   ]
  },
  {
   "cell_type": "markdown",
   "metadata": {},
   "source": [
    "### Ejemplo 3 : $_{n|m}q_x$ \n",
    "\n",
    "c.- Calcule la probabilidad de que, en el año 2016, un hombre inválido de 60 años fallezca teniendo al menos 70 pero no más de 80 años.\n",
    "\n",
    "Solucion:\n",
    "\n",
    " $$ _{10|11}q_{60} = _{10}p_{60}*_{11}q_{70} $$"
   ]
  },
  {
   "cell_type": "code",
   "execution_count": 12,
   "metadata": {},
   "outputs": [
    {
     "data": {
      "text/plain": [
       "0.15256650672064212"
      ]
     },
     "execution_count": 12,
     "metadata": {},
     "output_type": "execute_result"
    }
   ],
   "source": [
    "# Cargamos la tabla de mortandad\n",
    "probs = df[\"SPPS2017M\"]* pow(1-df[\"AaxM\"],-1)\n",
    "MS2016 = probs2lifetable(probs,radix = 10**6, type=\"qx\",name = \"MS2016\")\n",
    "\n",
    "# Calculamos la probabilidad\n",
    "pxt(MS2016, x = 60, t = 10)*qxt(MS2016, x = 70, t = 11)"
   ]
  },
  {
   "cell_type": "markdown",
   "metadata": {},
   "source": [
    "<h3>3.- Primas</h3>\n",
    "<p>\n",
    "Mostrar un ejemplo de primas (planteamiento del problema, cálculo e interpretación)\n",
    "</p>"
   ]
  },
  {
   "cell_type": "code",
   "execution_count": 13,
   "metadata": {},
   "outputs": [],
   "source": [
    "import math\n",
    "\n",
    "#function to evaluate the present value of a series of cash flows\n",
    "def presentValue(cashFlows, timeIds, interestRates, \n",
    "                 probabilities, power=1):\n",
    "    \n",
    "    v = pow(1+interestRates,-timeIds)\n",
    "\n",
    "    #power used for APV, usually=1\n",
    "    out = pow(cashFlows*v,power) * probabilities \n",
    "\n",
    "    return out\n",
    "\n",
    "\n",
    "#function computing survival annuities\n",
    "def Axn(actuarialtable, x, n = 0, i = 0, m = 0,  power = 1) :\n",
    "    \n",
    "    n = math.ceil((max(actuarialtable.x) + 1 - x - m) ) \n",
    "    payments = 1 \n",
    "    times = m \n",
    "        \n",
    "    out = 0\n",
    "    for times in range(0,n-1):  \n",
    "        probs = pxt(actuarialtable, x = x, t = times) \\\n",
    "             * qxt(actuarialtable, x = x + times, t = 1)\n",
    "        out = out  \\\n",
    "            + presentValue(payments, timeIds=(times + 1), interestRates=i, probabilities=probs, power=power)\n",
    "    \n",
    "    return out \n",
    "\n",
    "\n",
    "\n",
    "#function computing survival annuities\n",
    "def axn(actuarialtable, x, n = 0, i = 0, m = 0, power = 1) :\n",
    "  \n",
    "    n = math.ceil((max(actuarialtable.x) + 1 - x - m) ) \n",
    "    payments = 1 \n",
    "    times = m \n",
    "    \n",
    "    out = 0\n",
    "    for times in range(0,n-1):  \n",
    "        probs = pxt(actuarialtable, x = x, t = times)\n",
    "        \n",
    "        out = out  \\\n",
    "            + presentValue(payments, timeIds= times , interestRates=i, probabilities=probs, power=power)\n",
    "    \n",
    "    return out    \n",
    "    "
   ]
  },
  {
   "cell_type": "markdown",
   "metadata": {},
   "source": [
    "### Ejemplo \n",
    "\n",
    "<p> Una aseguradora emite un seguro vitalicio a un señor sano de 60 años por un monto de 200 mil soles, \n",
    "    los cuales serán pagados a sus beneficiarios al final del año en el que fallezca el asegurado. \n",
    "    Determine el monto de la prima neta a ser pagada, de manera indefinida, considerando una tasa de interés fija $i=4\\%$ </p>\n",
    "    \n",
    "$$P=\\frac{A_{60}}{\\ddot{a}_{60}}$$"
   ]
  },
  {
   "cell_type": "code",
   "execution_count": 14,
   "metadata": {},
   "outputs": [
    {
     "data": {
      "text/plain": [
       "4790.7655288667775"
      ]
     },
     "execution_count": 14,
     "metadata": {},
     "output_type": "execute_result"
    }
   ],
   "source": [
    "# Cargamos la tabla de mortandad\n",
    "probs = df[\"SPPS2017H\"]* pow(1-df[\"AaxH\"],2)\n",
    "HS2018 = probs2lifetable(probs,radix = 10**6, type=\"qx\",name = \"HS2018\")\n",
    "\n",
    "# Usamos las funciones creadas en Python para Axn() y axn()\n",
    "A60 = Axn(HS2018, x=60, i=0.04)\n",
    "a60 = axn(HS2018, x=60, i=0.04)\n",
    "\n",
    "#\n",
    "(A60/a60)*200000"
   ]
  },
  {
   "cell_type": "markdown",
   "metadata": {},
   "source": [
    "La prima neta a pagar es S/. 4790.7655"
   ]
  }
 ],
 "metadata": {
  "kernelspec": {
   "display_name": "Python 3",
   "language": "python",
   "name": "python3"
  },
  "language_info": {
   "codemirror_mode": {
    "name": "ipython",
    "version": 3
   },
   "file_extension": ".py",
   "mimetype": "text/x-python",
   "name": "python",
   "nbconvert_exporter": "python",
   "pygments_lexer": "ipython3",
   "version": "3.6.8"
  }
 },
 "nbformat": 4,
 "nbformat_minor": 2
}
